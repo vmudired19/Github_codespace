{
 "cells": [
  {
   "cell_type": "code",
   "execution_count": null,
   "id": "721da04f-4b51-4910-8480-860101b49efb",
   "metadata": {},
   "outputs": [],
   "source": []
  }
 ],
 "metadata": {
  "kernelspec": {
   "display_name": "",
   "name": ""
  },
  "language_info": {
   "name": ""
  }
 },
 "nbformat": 4,
 "nbformat_minor": 5
}
